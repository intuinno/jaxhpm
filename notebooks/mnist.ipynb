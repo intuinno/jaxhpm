{
 "cells": [
  {
   "cell_type": "code",
   "execution_count": 1,
   "id": "9527fb8f-8327-449e-affd-c5895d8237f9",
   "metadata": {},
   "outputs": [],
   "source": [
    "import mnist"
   ]
  },
  {
   "cell_type": "code",
   "execution_count": 2,
   "id": "63390e98-534e-483d-862b-e7768cd42bc0",
   "metadata": {},
   "outputs": [],
   "source": [
    "train_images = mnist.train_images()"
   ]
  },
  {
   "cell_type": "code",
   "execution_count": 3,
   "id": "d406e477-13dc-4512-9c41-9675a73dba4b",
   "metadata": {},
   "outputs": [
    {
     "data": {
      "text/plain": [
       "array([[[0, 0, 0, ..., 0, 0, 0],\n",
       "        [0, 0, 0, ..., 0, 0, 0],\n",
       "        [0, 0, 0, ..., 0, 0, 0],\n",
       "        ...,\n",
       "        [0, 0, 0, ..., 0, 0, 0],\n",
       "        [0, 0, 0, ..., 0, 0, 0],\n",
       "        [0, 0, 0, ..., 0, 0, 0]],\n",
       "\n",
       "       [[0, 0, 0, ..., 0, 0, 0],\n",
       "        [0, 0, 0, ..., 0, 0, 0],\n",
       "        [0, 0, 0, ..., 0, 0, 0],\n",
       "        ...,\n",
       "        [0, 0, 0, ..., 0, 0, 0],\n",
       "        [0, 0, 0, ..., 0, 0, 0],\n",
       "        [0, 0, 0, ..., 0, 0, 0]],\n",
       "\n",
       "       [[0, 0, 0, ..., 0, 0, 0],\n",
       "        [0, 0, 0, ..., 0, 0, 0],\n",
       "        [0, 0, 0, ..., 0, 0, 0],\n",
       "        ...,\n",
       "        [0, 0, 0, ..., 0, 0, 0],\n",
       "        [0, 0, 0, ..., 0, 0, 0],\n",
       "        [0, 0, 0, ..., 0, 0, 0]],\n",
       "\n",
       "       ...,\n",
       "\n",
       "       [[0, 0, 0, ..., 0, 0, 0],\n",
       "        [0, 0, 0, ..., 0, 0, 0],\n",
       "        [0, 0, 0, ..., 0, 0, 0],\n",
       "        ...,\n",
       "        [0, 0, 0, ..., 0, 0, 0],\n",
       "        [0, 0, 0, ..., 0, 0, 0],\n",
       "        [0, 0, 0, ..., 0, 0, 0]],\n",
       "\n",
       "       [[0, 0, 0, ..., 0, 0, 0],\n",
       "        [0, 0, 0, ..., 0, 0, 0],\n",
       "        [0, 0, 0, ..., 0, 0, 0],\n",
       "        ...,\n",
       "        [0, 0, 0, ..., 0, 0, 0],\n",
       "        [0, 0, 0, ..., 0, 0, 0],\n",
       "        [0, 0, 0, ..., 0, 0, 0]],\n",
       "\n",
       "       [[0, 0, 0, ..., 0, 0, 0],\n",
       "        [0, 0, 0, ..., 0, 0, 0],\n",
       "        [0, 0, 0, ..., 0, 0, 0],\n",
       "        ...,\n",
       "        [0, 0, 0, ..., 0, 0, 0],\n",
       "        [0, 0, 0, ..., 0, 0, 0],\n",
       "        [0, 0, 0, ..., 0, 0, 0]]], dtype=uint8)"
      ]
     },
     "execution_count": 3,
     "metadata": {},
     "output_type": "execute_result"
    }
   ],
   "source": [
    "train_images"
   ]
  },
  {
   "cell_type": "code",
   "execution_count": 4,
   "id": "e7c99897-fb61-4897-842c-f58d6a448641",
   "metadata": {},
   "outputs": [
    {
     "data": {
      "text/plain": [
       "255"
      ]
     },
     "execution_count": 4,
     "metadata": {},
     "output_type": "execute_result"
    }
   ],
   "source": [
    "train_images.max()"
   ]
  },
  {
   "cell_type": "code",
   "execution_count": 8,
   "id": "40cd5408-0288-46ae-9cde-724de00f147d",
   "metadata": {},
   "outputs": [],
   "source": [
    "import numpy as np"
   ]
  },
  {
   "cell_type": "code",
   "execution_count": 9,
   "id": "befeb411-85fc-482a-a33a-39b7c587bbb1",
   "metadata": {},
   "outputs": [
    {
     "data": {
      "text/plain": [
       "array([  0,   1,   2,   3,   4,   5,   6,   7,   8,   9,  10,  11,  12,\n",
       "        13,  14,  15,  16,  17,  18,  19,  20,  21,  22,  23,  24,  25,\n",
       "        26,  27,  28,  29,  30,  31,  32,  33,  34,  35,  36,  37,  38,\n",
       "        39,  40,  41,  42,  43,  44,  45,  46,  47,  48,  49,  50,  51,\n",
       "        52,  53,  54,  55,  56,  57,  58,  59,  60,  61,  62,  63,  64,\n",
       "        65,  66,  67,  68,  69,  70,  71,  72,  73,  74,  75,  76,  77,\n",
       "        78,  79,  80,  81,  82,  83,  84,  85,  86,  87,  88,  89,  90,\n",
       "        91,  92,  93,  94,  95,  96,  97,  98,  99, 100, 101, 102, 103,\n",
       "       104, 105, 106, 107, 108, 109, 110, 111, 112, 113, 114, 115, 116,\n",
       "       117, 118, 119, 120, 121, 122, 123, 124, 125, 126, 127, 128, 129,\n",
       "       130, 131, 132, 133, 134, 135, 136, 137, 138, 139, 140, 141, 142,\n",
       "       143, 144, 145, 146, 147, 148, 149, 150, 151, 152, 153, 154, 155,\n",
       "       156, 157, 158, 159, 160, 161, 162, 163, 164, 165, 166, 167, 168,\n",
       "       169, 170, 171, 172, 173, 174, 175, 176, 177, 178, 179, 180, 181,\n",
       "       182, 183, 184, 185, 186, 187, 188, 189, 190, 191, 192, 193, 194,\n",
       "       195, 196, 197, 198, 199, 200, 201, 202, 203, 204, 205, 206, 207,\n",
       "       208, 209, 210, 211, 212, 213, 214, 215, 216, 217, 218, 219, 220,\n",
       "       221, 222, 223, 224, 225, 226, 227, 228, 229, 230, 231, 232, 233,\n",
       "       234, 235, 236, 237, 238, 239, 240, 241, 242, 243, 244, 245, 246,\n",
       "       247, 248, 249, 250, 251, 252, 253, 254, 255], dtype=uint8)"
      ]
     },
     "execution_count": 9,
     "metadata": {},
     "output_type": "execute_result"
    }
   ],
   "source": [
    "np.unique(train_images)"
   ]
  },
  {
   "cell_type": "code",
   "execution_count": 10,
   "id": "8718f0d6-b18d-4b0d-952a-26002c507bad",
   "metadata": {},
   "outputs": [],
   "source": [
    "normal_train_images = train_images/255.0"
   ]
  },
  {
   "cell_type": "code",
   "execution_count": 11,
   "id": "0d12f2fd-3997-4880-ba2c-94697e8235b6",
   "metadata": {},
   "outputs": [
    {
     "data": {
      "text/plain": [
       "array([0.        , 0.00392157, 0.00784314, 0.01176471, 0.01568627,\n",
       "       0.01960784, 0.02352941, 0.02745098, 0.03137255, 0.03529412,\n",
       "       0.03921569, 0.04313725, 0.04705882, 0.05098039, 0.05490196,\n",
       "       0.05882353, 0.0627451 , 0.06666667, 0.07058824, 0.0745098 ,\n",
       "       0.07843137, 0.08235294, 0.08627451, 0.09019608, 0.09411765,\n",
       "       0.09803922, 0.10196078, 0.10588235, 0.10980392, 0.11372549,\n",
       "       0.11764706, 0.12156863, 0.1254902 , 0.12941176, 0.13333333,\n",
       "       0.1372549 , 0.14117647, 0.14509804, 0.14901961, 0.15294118,\n",
       "       0.15686275, 0.16078431, 0.16470588, 0.16862745, 0.17254902,\n",
       "       0.17647059, 0.18039216, 0.18431373, 0.18823529, 0.19215686,\n",
       "       0.19607843, 0.2       , 0.20392157, 0.20784314, 0.21176471,\n",
       "       0.21568627, 0.21960784, 0.22352941, 0.22745098, 0.23137255,\n",
       "       0.23529412, 0.23921569, 0.24313725, 0.24705882, 0.25098039,\n",
       "       0.25490196, 0.25882353, 0.2627451 , 0.26666667, 0.27058824,\n",
       "       0.2745098 , 0.27843137, 0.28235294, 0.28627451, 0.29019608,\n",
       "       0.29411765, 0.29803922, 0.30196078, 0.30588235, 0.30980392,\n",
       "       0.31372549, 0.31764706, 0.32156863, 0.3254902 , 0.32941176,\n",
       "       0.33333333, 0.3372549 , 0.34117647, 0.34509804, 0.34901961,\n",
       "       0.35294118, 0.35686275, 0.36078431, 0.36470588, 0.36862745,\n",
       "       0.37254902, 0.37647059, 0.38039216, 0.38431373, 0.38823529,\n",
       "       0.39215686, 0.39607843, 0.4       , 0.40392157, 0.40784314,\n",
       "       0.41176471, 0.41568627, 0.41960784, 0.42352941, 0.42745098,\n",
       "       0.43137255, 0.43529412, 0.43921569, 0.44313725, 0.44705882,\n",
       "       0.45098039, 0.45490196, 0.45882353, 0.4627451 , 0.46666667,\n",
       "       0.47058824, 0.4745098 , 0.47843137, 0.48235294, 0.48627451,\n",
       "       0.49019608, 0.49411765, 0.49803922, 0.50196078, 0.50588235,\n",
       "       0.50980392, 0.51372549, 0.51764706, 0.52156863, 0.5254902 ,\n",
       "       0.52941176, 0.53333333, 0.5372549 , 0.54117647, 0.54509804,\n",
       "       0.54901961, 0.55294118, 0.55686275, 0.56078431, 0.56470588,\n",
       "       0.56862745, 0.57254902, 0.57647059, 0.58039216, 0.58431373,\n",
       "       0.58823529, 0.59215686, 0.59607843, 0.6       , 0.60392157,\n",
       "       0.60784314, 0.61176471, 0.61568627, 0.61960784, 0.62352941,\n",
       "       0.62745098, 0.63137255, 0.63529412, 0.63921569, 0.64313725,\n",
       "       0.64705882, 0.65098039, 0.65490196, 0.65882353, 0.6627451 ,\n",
       "       0.66666667, 0.67058824, 0.6745098 , 0.67843137, 0.68235294,\n",
       "       0.68627451, 0.69019608, 0.69411765, 0.69803922, 0.70196078,\n",
       "       0.70588235, 0.70980392, 0.71372549, 0.71764706, 0.72156863,\n",
       "       0.7254902 , 0.72941176, 0.73333333, 0.7372549 , 0.74117647,\n",
       "       0.74509804, 0.74901961, 0.75294118, 0.75686275, 0.76078431,\n",
       "       0.76470588, 0.76862745, 0.77254902, 0.77647059, 0.78039216,\n",
       "       0.78431373, 0.78823529, 0.79215686, 0.79607843, 0.8       ,\n",
       "       0.80392157, 0.80784314, 0.81176471, 0.81568627, 0.81960784,\n",
       "       0.82352941, 0.82745098, 0.83137255, 0.83529412, 0.83921569,\n",
       "       0.84313725, 0.84705882, 0.85098039, 0.85490196, 0.85882353,\n",
       "       0.8627451 , 0.86666667, 0.87058824, 0.8745098 , 0.87843137,\n",
       "       0.88235294, 0.88627451, 0.89019608, 0.89411765, 0.89803922,\n",
       "       0.90196078, 0.90588235, 0.90980392, 0.91372549, 0.91764706,\n",
       "       0.92156863, 0.9254902 , 0.92941176, 0.93333333, 0.9372549 ,\n",
       "       0.94117647, 0.94509804, 0.94901961, 0.95294118, 0.95686275,\n",
       "       0.96078431, 0.96470588, 0.96862745, 0.97254902, 0.97647059,\n",
       "       0.98039216, 0.98431373, 0.98823529, 0.99215686, 0.99607843,\n",
       "       1.        ])"
      ]
     },
     "execution_count": 11,
     "metadata": {},
     "output_type": "execute_result"
    }
   ],
   "source": [
    "np.unique(normal_train_images)"
   ]
  },
  {
   "cell_type": "code",
   "execution_count": 15,
   "id": "d713dce2-a193-4e0a-9d68-486b57ae1bc4",
   "metadata": {},
   "outputs": [],
   "source": [
    "import math\n",
    "import os\n",
    "import sys\n",
    "\n",
    "import numpy as np\n",
    "from PIL import Image\n",
    "\n",
    "\n",
    "###########################################################################################\n",
    "# script to generate moving mnist video dataset (frame by frame) as described in\n",
    "# [1] arXiv:1502.04681 - Unsupervised Learning of Video Representations Using LSTMs\n",
    "#     Srivastava et al\n",
    "# by Tencia Lee\n",
    "# saves in hdf5, npz, or jpg (individual frames) format\n",
    "###########################################################################################\n",
    "\n",
    "# helper functions\n",
    "def arr_from_img(im, mean=0, std=1):\n",
    "    '''\n",
    "\n",
    "    Args:\n",
    "        im: Image\n",
    "        shift: Mean to subtract\n",
    "        std: Standard Deviation to subtract\n",
    "\n",
    "    Returns:\n",
    "        Image in np.float32 format, in width height channel format. With values in range 0,1\n",
    "        Shift means subtract by certain value. Could be used for mean subtraction.\n",
    "    '''\n",
    "    width, height = im.size\n",
    "    arr = im.getdata()\n",
    "    c = int(np.product(arr.size) / (width * height))\n",
    "\n",
    "    return (np.asarray(arr, dtype=np.float32).reshape((height, width, c)).transpose(2, 1, 0) / 255. - mean) / std\n",
    "\n",
    "\n",
    "def get_image_from_array(X, index, mean=0, std=1):\n",
    "    '''\n",
    "\n",
    "    Args:\n",
    "        X: Dataset of shape N x C x W x H\n",
    "        index: Index of image we want to fetch\n",
    "        mean: Mean to add\n",
    "        std: Standard Deviation to add\n",
    "    Returns:\n",
    "        Image with dimensions H x W x C or H x W if it's a single channel image\n",
    "    '''\n",
    "    ch, w, h = X.shape[1], X.shape[2], X.shape[3]\n",
    "    ret = (((X[index] + mean) * 255.) * std).reshape(ch, w, h).transpose(2, 1, 0).clip(0, 255).astype(np.uint8)\n",
    "    if ch == 1:\n",
    "        ret = ret.reshape(h, w)\n",
    "    return ret\n",
    "\n",
    "\n",
    "# loads mnist from web on demand\n",
    "def load_dataset(training=True):\n",
    "    if sys.version_info[0] == 2:\n",
    "        from urllib import urlretrieve\n",
    "    else:\n",
    "        from urllib.request import urlretrieve\n",
    "\n",
    "    def download(filename, source='http://yann.lecun.com/exdb/mnist/'):\n",
    "        print(\"Downloading %s\" % filename)\n",
    "        urlretrieve(source + filename, filename)\n",
    "\n",
    "    import gzip\n",
    "    def load_mnist_images(filename):\n",
    "        if not os.path.exists(filename):\n",
    "            download(filename)\n",
    "        with gzip.open(filename, 'rb') as f:\n",
    "            data = np.frombuffer(f.read(), np.uint8, offset=16)\n",
    "        data = data.reshape(-1, 1, 28, 28).transpose(0, 1, 3, 2)\n",
    "        return data / np.float32(255)\n",
    "\n",
    "    if training:\n",
    "        return load_mnist_images('train-images-idx3-ubyte.gz')\n",
    "    return load_mnist_images('t10k-images-idx3-ubyte.gz')\n",
    "\n",
    "\n",
    "def generate_moving_mnist(training, shape=(64, 64), num_frames=30, num_images=100, original_size=28, nums_per_image=2):\n",
    "    '''\n",
    "\n",
    "    Args:\n",
    "        training: Boolean, used to decide if downloading/generating train set or test set\n",
    "        shape: Shape we want for our moving images (new_width and new_height)\n",
    "        num_frames: Number of frames in a particular movement/animation/gif\n",
    "        num_images: Number of movement/animations/gif to generate\n",
    "        original_size: Real size of the images (eg: MNIST is 28x28)\n",
    "        nums_per_image: Digits per movement/animation/gif.\n",
    "\n",
    "    Returns:\n",
    "        Dataset of np.uint8 type with dimensions num_frames * num_images x 1 x new_width x new_height\n",
    "\n",
    "    '''\n",
    "    mnist = load_dataset(training)\n",
    "    width, height = shape\n",
    "\n",
    "    # Get how many pixels can we move around a single image\n",
    "    lims = (x_lim, y_lim) = width - original_size, height - original_size\n",
    "\n",
    "    # Create a dataset of shape of num_frames * num_images x 1 x new_width x new_height\n",
    "    # Eg : 3000000 x 1 x 64 x 64\n",
    "    dataset = np.empty((num_frames * num_images, 1, width, height), dtype=np.uint8)\n",
    "\n",
    "    for img_idx in range(num_images):\n",
    "        # Randomly generate direction, speed and velocity for both images\n",
    "        direcs = np.pi * (np.random.rand(nums_per_image) * 2 - 1)\n",
    "        speeds = np.random.randint(5, size=nums_per_image) + 2\n",
    "        veloc = np.asarray([(speed * math.cos(direc), speed * math.sin(direc)) for direc, speed in zip(direcs, speeds)])\n",
    "        # Get a list containing two PIL images randomly sampled from the database\n",
    "        mnist_images = [Image.fromarray(get_image_from_array(mnist, r, mean=0)).resize((original_size, original_size),\n",
    "                                                                                       Image.ANTIALIAS) \\\n",
    "                        for r in np.random.randint(0, mnist.shape[0], nums_per_image)]\n",
    "        # Generate tuples of (x,y) i.e initial positions for nums_per_image (default : 2)\n",
    "        positions = np.asarray([(np.random.rand() * x_lim, np.random.rand() * y_lim) for _ in range(nums_per_image)])\n",
    "\n",
    "        # Generate new frames for the entire num_framesgth\n",
    "        for frame_idx in range(num_frames):\n",
    "\n",
    "            canvases = [Image.new('L', (width, height)) for _ in range(nums_per_image)]\n",
    "            canvas = np.zeros((1, width, height), dtype=np.float32)\n",
    "\n",
    "            # In canv (i.e Image object) place the image at the respective positions\n",
    "            # Super impose both images on the canvas (i.e empty np array)\n",
    "            for i, canv in enumerate(canvases):\n",
    "                canv.paste(mnist_images[i], tuple(positions[i].astype(int)))\n",
    "                canvas += arr_from_img(canv, mean=0)\n",
    "\n",
    "            # Get the next position by adding velocity\n",
    "            next_pos = positions + veloc\n",
    "\n",
    "            # Iterate over velocity and see if we hit the wall\n",
    "            # If we do then change the  (change direction)\n",
    "            for i, pos in enumerate(next_pos):\n",
    "                for j, coord in enumerate(pos):\n",
    "                    if coord < -2 or coord > lims[j] + 2:\n",
    "                        veloc[i] = list(list(veloc[i][:j]) + [-1 * veloc[i][j]] + list(veloc[i][j + 1:]))\n",
    "\n",
    "            # Make the permanent change to position by adding updated velocity\n",
    "            positions = positions + veloc\n",
    "\n",
    "            # Add the canvas to the dataset array\n",
    "            dataset[img_idx * num_frames + frame_idx] = (canvas * 255).clip(0, 255).astype(np.uint8)\n",
    "\n",
    "    return dataset\n",
    "\n",
    "\n",
    "def main(training, dest, filetype='npz', frame_size=64, num_frames=30, num_images=100, original_size=28,\n",
    "         nums_per_image=2):\n",
    "    dat = generate_moving_mnist(training, shape=(frame_size, frame_size), num_frames=num_frames, num_images=num_images, \\\n",
    "                                original_size=original_size, nums_per_image=nums_per_image)\n",
    "    n = num_images * num_frames\n",
    "    if filetype == 'npz':\n",
    "        np.savez(dest, dat)\n",
    "    elif filetype == 'jpg':\n",
    "        for i in range(dat.shape[0]):\n",
    "            Image.fromarray(get_image_from_array(dat, i, mean=0)).save(os.path.join(dest, '{}.jpg'.format(i)))\n",
    "\n"
   ]
  },
  {
   "cell_type": "code",
   "execution_count": 16,
   "id": "367d326b-610f-43e4-966a-2872f1396b76",
   "metadata": {},
   "outputs": [
    {
     "data": {
      "text/plain": [
       "array([[[0, 0, 0, ..., 0, 0, 0],\n",
       "        [0, 0, 0, ..., 0, 0, 0],\n",
       "        [0, 0, 0, ..., 0, 0, 0],\n",
       "        ...,\n",
       "        [0, 0, 0, ..., 0, 0, 0],\n",
       "        [0, 0, 0, ..., 0, 0, 0],\n",
       "        [0, 0, 0, ..., 0, 0, 0]],\n",
       "\n",
       "       [[0, 0, 0, ..., 0, 0, 0],\n",
       "        [0, 0, 0, ..., 0, 0, 0],\n",
       "        [0, 0, 0, ..., 0, 0, 0],\n",
       "        ...,\n",
       "        [0, 0, 0, ..., 0, 0, 0],\n",
       "        [0, 0, 0, ..., 0, 0, 0],\n",
       "        [0, 0, 0, ..., 0, 0, 0]],\n",
       "\n",
       "       [[0, 0, 0, ..., 0, 0, 0],\n",
       "        [0, 0, 0, ..., 0, 0, 0],\n",
       "        [0, 0, 0, ..., 0, 0, 0],\n",
       "        ...,\n",
       "        [0, 0, 0, ..., 0, 0, 0],\n",
       "        [0, 0, 0, ..., 0, 0, 0],\n",
       "        [0, 0, 0, ..., 0, 0, 0]],\n",
       "\n",
       "       ...,\n",
       "\n",
       "       [[0, 0, 0, ..., 0, 0, 0],\n",
       "        [0, 0, 0, ..., 0, 0, 0],\n",
       "        [0, 0, 0, ..., 0, 0, 0],\n",
       "        ...,\n",
       "        [0, 0, 0, ..., 0, 0, 0],\n",
       "        [0, 0, 0, ..., 0, 0, 0],\n",
       "        [0, 0, 0, ..., 0, 0, 0]],\n",
       "\n",
       "       [[0, 0, 0, ..., 0, 0, 0],\n",
       "        [0, 0, 0, ..., 0, 0, 0],\n",
       "        [0, 0, 0, ..., 0, 0, 0],\n",
       "        ...,\n",
       "        [0, 0, 0, ..., 0, 0, 0],\n",
       "        [0, 0, 0, ..., 0, 0, 0],\n",
       "        [0, 0, 0, ..., 0, 0, 0]],\n",
       "\n",
       "       [[0, 0, 0, ..., 0, 0, 0],\n",
       "        [0, 0, 0, ..., 0, 0, 0],\n",
       "        [0, 0, 0, ..., 0, 0, 0],\n",
       "        ...,\n",
       "        [0, 0, 0, ..., 0, 0, 0],\n",
       "        [0, 0, 0, ..., 0, 0, 0],\n",
       "        [0, 0, 0, ..., 0, 0, 0]]], dtype=uint8)"
      ]
     },
     "execution_count": 16,
     "metadata": {},
     "output_type": "execute_result"
    }
   ],
   "source": [
    "train_images"
   ]
  },
  {
   "cell_type": "code",
   "execution_count": 17,
   "id": "54b5dc8b-5e1c-460e-82ca-eebf8166fefb",
   "metadata": {},
   "outputs": [],
   "source": [
    "width, height = 64, 64"
   ]
  },
  {
   "cell_type": "code",
   "execution_count": 18,
   "id": "b3ca52d8-74a1-4870-826d-60bab0269c9a",
   "metadata": {},
   "outputs": [],
   "source": [
    "lims = (x_lim, y_lim) = width - 28, height - 28"
   ]
  },
  {
   "cell_type": "code",
   "execution_count": 19,
   "id": "2837ccb1-fa57-4dc1-a70d-be59c6bd5f62",
   "metadata": {},
   "outputs": [
    {
     "data": {
      "text/plain": [
       "(36, 36)"
      ]
     },
     "execution_count": 19,
     "metadata": {},
     "output_type": "execute_result"
    }
   ],
   "source": [
    "lims"
   ]
  },
  {
   "cell_type": "code",
   "execution_count": 20,
   "id": "0faf987d-76c9-45f3-831f-22d84569ad12",
   "metadata": {},
   "outputs": [],
   "source": [
    "direcs = np.pi *(np.random.rand(2)*2-1)"
   ]
  },
  {
   "cell_type": "code",
   "execution_count": 21,
   "id": "8f0ac27e-32c6-4c34-8afd-2afa0be11d4a",
   "metadata": {},
   "outputs": [
    {
     "data": {
      "text/plain": [
       "array([-2.42811947, -0.8130318 ])"
      ]
     },
     "execution_count": 21,
     "metadata": {},
     "output_type": "execute_result"
    }
   ],
   "source": [
    "direcs"
   ]
  },
  {
   "cell_type": "code",
   "execution_count": 22,
   "id": "db8aece4-cd23-4902-b43d-b680cda688e3",
   "metadata": {},
   "outputs": [],
   "source": [
    "speeds = np.random.randint(5, size=2) + 2"
   ]
  },
  {
   "cell_type": "code",
   "execution_count": 23,
   "id": "331633c6-509f-4a9a-8ca6-90e839b04f70",
   "metadata": {},
   "outputs": [
    {
     "data": {
      "text/plain": [
       "array([6, 2])"
      ]
     },
     "execution_count": 23,
     "metadata": {},
     "output_type": "execute_result"
    }
   ],
   "source": [
    "speeds"
   ]
  },
  {
   "cell_type": "code",
   "execution_count": 24,
   "id": "e484e791-40eb-4dca-862c-a9447d289cc7",
   "metadata": {},
   "outputs": [],
   "source": [
    "veloc = np.asarray([(speed * math.cos(direc), speed*math.sin(direc)) for direc, speed in zip(direcs, speeds)])"
   ]
  },
  {
   "cell_type": "code",
   "execution_count": 25,
   "id": "424f372a-b7b5-4976-b0d6-c6f2d62bb868",
   "metadata": {},
   "outputs": [
    {
     "data": {
      "text/plain": [
       "array([[-4.53656021, -3.92678259],\n",
       "       [ 1.37459875, -1.45274852]])"
      ]
     },
     "execution_count": 25,
     "metadata": {},
     "output_type": "execute_result"
    }
   ],
   "source": [
    "veloc"
   ]
  },
  {
   "cell_type": "code",
   "execution_count": 28,
   "id": "e40a71d1-5a32-4249-bb77-ca13689923db",
   "metadata": {},
   "outputs": [
    {
     "data": {
      "text/plain": [
       "<module 'PIL.Image' from '/home/intuinno/anaconda3/envs/jaxhpm/lib/python3.12/site-packages/PIL/Image.py'>"
      ]
     },
     "execution_count": 28,
     "metadata": {},
     "output_type": "execute_result"
    }
   ],
   "source": [
    "Image"
   ]
  },
  {
   "cell_type": "code",
   "execution_count": 29,
   "id": "91628d01-eb7e-4fdf-8cdd-f9876bcf516b",
   "metadata": {},
   "outputs": [],
   "source": [
    "positions = np.asarray([(np.random.rand() * x_lim, np.random.rand() * y_lim) for _ in range(2)])"
   ]
  },
  {
   "cell_type": "code",
   "execution_count": 30,
   "id": "a5dcd9e5-aa45-41ba-82c8-1b8598849647",
   "metadata": {},
   "outputs": [
    {
     "data": {
      "text/plain": [
       "array([[ 8.48658356, 20.76532544],\n",
       "       [15.41485305,  1.82413109]])"
      ]
     },
     "execution_count": 30,
     "metadata": {},
     "output_type": "execute_result"
    }
   ],
   "source": [
    "positions"
   ]
  },
  {
   "cell_type": "code",
   "execution_count": 34,
   "id": "64e03ac3-9ee3-424e-9d6d-25e6c1edd53f",
   "metadata": {},
   "outputs": [],
   "source": [
    "a = np.ones((3,3))"
   ]
  },
  {
   "cell_type": "code",
   "execution_count": 35,
   "id": "d4bff792-cf78-48cb-9d9d-ea3415cfb6b8",
   "metadata": {},
   "outputs": [],
   "source": [
    "b = np.zeros((8,8))"
   ]
  },
  {
   "cell_type": "code",
   "execution_count": 36,
   "id": "eb5e6aaa-1fd6-4e30-bcd5-84f95f994df5",
   "metadata": {},
   "outputs": [],
   "source": [
    "x, y = 1,2"
   ]
  },
  {
   "cell_type": "code",
   "execution_count": 37,
   "id": "30def727-a9d1-4f19-8175-6107068e5553",
   "metadata": {},
   "outputs": [],
   "source": [
    "b[x:x+3, y:y+3] = a"
   ]
  },
  {
   "cell_type": "code",
   "execution_count": 38,
   "id": "28a59dce-a5df-4a61-8cbc-8ef25be99f1a",
   "metadata": {},
   "outputs": [
    {
     "data": {
      "text/plain": [
       "array([[0., 0., 0., 0., 0., 0., 0., 0.],\n",
       "       [0., 0., 1., 1., 1., 0., 0., 0.],\n",
       "       [0., 0., 1., 1., 1., 0., 0., 0.],\n",
       "       [0., 0., 1., 1., 1., 0., 0., 0.],\n",
       "       [0., 0., 0., 0., 0., 0., 0., 0.],\n",
       "       [0., 0., 0., 0., 0., 0., 0., 0.],\n",
       "       [0., 0., 0., 0., 0., 0., 0., 0.],\n",
       "       [0., 0., 0., 0., 0., 0., 0., 0.]])"
      ]
     },
     "execution_count": 38,
     "metadata": {},
     "output_type": "execute_result"
    }
   ],
   "source": [
    "b"
   ]
  },
  {
   "cell_type": "code",
   "execution_count": null,
   "id": "816bb4c3-15af-45d2-b450-4918681e80bc",
   "metadata": {},
   "outputs": [],
   "source": []
  }
 ],
 "metadata": {
  "kernelspec": {
   "display_name": "Python 3 (ipykernel)",
   "language": "python",
   "name": "python3"
  },
  "language_info": {
   "codemirror_mode": {
    "name": "ipython",
    "version": 3
   },
   "file_extension": ".py",
   "mimetype": "text/x-python",
   "name": "python",
   "nbconvert_exporter": "python",
   "pygments_lexer": "ipython3",
   "version": "3.12.2"
  }
 },
 "nbformat": 4,
 "nbformat_minor": 5
}
